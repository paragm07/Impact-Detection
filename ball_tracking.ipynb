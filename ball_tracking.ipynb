{
  "nbformat": 4,
  "nbformat_minor": 0,
  "metadata": {
    "colab": {
      "provenance": []
    },
    "kernelspec": {
      "name": "python3",
      "display_name": "Python 3"
    },
    "language_info": {
      "name": "python"
    }
  },
  "cells": [
    {
      "cell_type": "markdown",
      "source": [
        "** Ball Tracking and Trajectory Prediction**"
      ],
      "metadata": {
        "id": "btwAuCdJouLX"
      }
    },
    {
      "cell_type": "code",
      "source": [
        "# Define a function to detect and track the ball\n",
        "def detect_ball(frame, lower_color, upper_color):\n",
        "    # Convert the frame to HSV color space\n",
        "    hsv = cv2.cvtColor(frame, cv2.COLOR_BGR2HSV)"
      ],
      "metadata": {
        "id": "ldRLpNrUnZ3G"
      },
      "execution_count": null,
      "outputs": []
    },
    {
      "cell_type": "code",
      "source": [
        " # Create a mask for the ball color\n",
        "    mask = cv2.inRange(hsv, lower_color, upper_color)"
      ],
      "metadata": {
        "id": "hyd63uTDnZ5Y"
      },
      "execution_count": null,
      "outputs": []
    },
    {
      "cell_type": "code",
      "source": [
        "\n",
        "    # Find contours in the mask\n",
        "    contours, _ = cv2.findContours(mask, cv2.RETR_TREE, cv2.CHAIN_APPROX_SIMPLE)\n",
        "\n",
        "    if contours:\n",
        "        # Find the largest contour (assumed to be the ball)\n",
        "        c = max(contours, key=cv2.contourArea)\n",
        "        # Get the radius and center of the ball\n",
        "        ((x, y), radius) = cv2.minEnclosingCircle(c)\n",
        "\n",
        "        # Only proceed if the radius meets a minimum size\n",
        "        if radius > 10:\n",
        "            # Draw the circle on the frame\n",
        "            cv2.circle(frame, (int(x), int(y)), int(radius), (0, 255, 255), 2)\n",
        "            return int(x), int(y)\n",
        "\n",
        "    return None, None\n"
      ],
      "metadata": {
        "id": "mtmyg8xinZ7z"
      },
      "execution_count": null,
      "outputs": []
    },
    {
      "cell_type": "code",
      "source": [
        "# Initialize video capture (use video file or webcam)\n",
        "cap = cv2.VideoCapture('cricket_video.mp4')\n"
      ],
      "metadata": {
        "id": "b9vZ4sVFnZ-m"
      },
      "execution_count": null,
      "outputs": []
    },
    {
      "cell_type": "code",
      "source": [
        "# Define color range for detecting the ball (HSV values)\n",
        "# Modify these values based on the color of the cricket ball in the video\n",
        "lower_color = np.array([29, 86, 6])\n",
        "upper_color = np.array([64, 255, 255])\n"
      ],
      "metadata": {
        "id": "rHp8IyutnaAq"
      },
      "execution_count": null,
      "outputs": []
    },
    {
      "cell_type": "code",
      "source": [
        "# Create a list to store ball positions for trajectory prediction\n",
        "trajectory_points = []\n",
        "\n",
        "while True:\n",
        "    # Capture each frame of the video\n",
        "    ret, frame = cap.read()\n",
        "\n",
        "    if not ret:\n",
        "        break"
      ],
      "metadata": {
        "id": "rtBgbzMonaDC"
      },
      "execution_count": null,
      "outputs": []
    },
    {
      "cell_type": "code",
      "source": [
        "# Detect the ball in the current frame\n",
        "    x, y = detect_ball(frame, lower_color, upper_color)\n",
        "\n",
        "    if x and y:\n",
        "        # Add the ball position to the trajectory list\n",
        "        trajectory_points.append((x, y))"
      ],
      "metadata": {
        "id": "YlJpLD1SnaFk"
      },
      "execution_count": null,
      "outputs": []
    },
    {
      "cell_type": "code",
      "source": [
        " # Draw the trajectory of the ball\n",
        "    for point in trajectory_points:\n",
        "        cv2.circle(frame, point, 5, (0, 0, 255), -1)\n"
      ],
      "metadata": {
        "id": "5C47BBSInaH9"
      },
      "execution_count": null,
      "outputs": []
    },
    {
      "cell_type": "code",
      "source": [
        " # Display the result\n",
        "    cv2.imshow(\"Ball Tracking\", frame)"
      ],
      "metadata": {
        "id": "er0NX7qqnaKp"
      },
      "execution_count": null,
      "outputs": []
    },
    {
      "cell_type": "code",
      "source": [
        " # Break the loop if 'q' is pressed\n",
        "    if cv2.waitKey(1) & 0xFF == ord('q'):\n",
        "        break"
      ],
      "metadata": {
        "id": "-52w8zPWnaNN"
      },
      "execution_count": null,
      "outputs": []
    },
    {
      "cell_type": "code",
      "source": [
        "# Release the capture and close windows\n",
        "cap.release()\n",
        "cv2.destroyAllWindows()"
      ],
      "metadata": {
        "id": "6ZOa52P8naPv"
      },
      "execution_count": null,
      "outputs": []
    },
    {
      "cell_type": "markdown",
      "source": [],
      "metadata": {
        "id": "dAE8bm6doDkU"
      }
    },
    {
      "cell_type": "code",
      "source": [],
      "metadata": {
        "id": "6buq3bLmnaSB"
      },
      "execution_count": null,
      "outputs": []
    },
    {
      "cell_type": "code",
      "source": [],
      "metadata": {
        "id": "NLDauVnlnaUW"
      },
      "execution_count": null,
      "outputs": []
    },
    {
      "cell_type": "code",
      "source": [],
      "metadata": {
        "id": "ZSt8-noInaWr"
      },
      "execution_count": null,
      "outputs": []
    }
  ]
}
